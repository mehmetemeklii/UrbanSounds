{
  "cells": [
    {
      "cell_type": "markdown",
      "metadata": {
        "id": "view-in-github",
        "colab_type": "text"
      },
      "source": [
        "<a href=\"https://colab.research.google.com/github/mehmetemeklii/UrbanSounds/blob/main/DeepLearningProject.ipynb\" target=\"_parent\"><img src=\"https://colab.research.google.com/assets/colab-badge.svg\" alt=\"Open In Colab\"/></a>"
      ]
    },
    {
      "cell_type": "code",
      "execution_count": 328,
      "metadata": {
        "id": "YugQjNdc_TYU"
      },
      "outputs": [],
      "source": [
        "import pandas as pd\n",
        "import numpy as np\n",
        "import matplotlib.pyplot as plt"
      ]
    },
    {
      "cell_type": "code",
      "execution_count": 329,
      "metadata": {
        "id": "Pg_cf8xfFdnZ",
        "colab": {
          "base_uri": "https://localhost:8080/"
        },
        "outputId": "e9029369-1b04-4da8-cbda-d9cfc5d836e0"
      },
      "outputs": [
        {
          "output_type": "stream",
          "name": "stdout",
          "text": [
            "Drive already mounted at /content/drive; to attempt to forcibly remount, call drive.mount(\"/content/drive\", force_remount=True).\n"
          ]
        }
      ],
      "source": [
        "from google.colab import drive\n",
        "from imutils import paths\n",
        "drive.mount('/content/drive')\n",
        "path = '/content/drive/MyDrive/Colab Notebooks/DeepLearning/UrbanSounds' #drive içerisinde datanın bulunduğu yol\n",
        "imagepath = list(paths.list_images(path))"
      ]
    },
    {
      "cell_type": "code",
      "execution_count": 330,
      "metadata": {
        "id": "ApBPSd4dhngQ"
      },
      "outputs": [],
      "source": [
        "import cv2\n",
        "from google.colab.patches import cv2_imshow\n",
        "from PIL import Image\n",
        "import os\n",
        "rev_image_list = []\n",
        "rev_image_class_list=[]\n",
        "for i in range(10):\n",
        "  path = f\"/content/drive/MyDrive/Colab Notebooks/DeepLearning/UrbanSounds/{i}/\"\n",
        "  image_name_list =[]\n",
        "  filenames = os.listdir(path)\n",
        "  for files in filenames:\n",
        "    image_name_list.append(files)\n",
        "  for ax in range(len(image_name_list)):\n",
        "    image = cv2.imread(f'/content/drive/MyDrive/Colab Notebooks/DeepLearning/UrbanSounds/{i}/{image_name_list[ax]}')\n",
        "    gray_image = cv2.cvtColor(image, cv2.COLOR_BGR2GRAY)\n",
        "    sunset_resized= cv2.resize(gray_image, dsize=(32, 32))\n",
        "    sunset_resized = sunset_resized/255\n",
        "    rev_image_list.append(sunset_resized)  \n",
        "    rev_image_class_list.append(i)\n"
      ]
    },
    {
      "cell_type": "code",
      "execution_count": 331,
      "metadata": {
        "id": "4ybL9T5niNB9"
      },
      "outputs": [],
      "source": [
        "from sklearn.model_selection import train_test_split\n",
        "x_label = np.array(rev_image_list)\n",
        "y_label =np.array(rev_image_class_list)\n",
        "\n",
        "x_train, x_temporary,y_train,y_temporary = train_test_split(x_label,y_label,train_size=0.8)\n",
        "x_val,x_test,y_val,y_test = train_test_split(x_temporary,y_temporary,test_size=0.5)\n",
        "#Reshape durumu\n",
        "\n",
        "\n",
        "x_train=x_train.reshape(-1,32,32,1)\n",
        "x_val = x_val.reshape(-1,32,32,1)\n",
        "x_temporary=x_temporary.reshape(-1,32,32,1)\n",
        "x_test=x_test.reshape(-1,32,32,1)"
      ]
    },
    {
      "cell_type": "code",
      "source": [
        "# np.save(\"/content/drive/MyDrive/Colab Notebooks/DeepLearning/UrbanSounds/y_train\", x_train)"
      ],
      "metadata": {
        "id": "tweseNT1D7oO"
      },
      "execution_count": 332,
      "outputs": []
    },
    {
      "cell_type": "code",
      "source": [
        "#EXPORT\n",
        "result = x_train.reshape(1,-1).T\n",
        "result_2 = y_train.reshape(1,-1).T\n",
        "result_3 =x_temporary.reshape(1,-1).T\n",
        "result_4 =y_temporary.reshape(1,-1).T\n",
        "result_5 =x_val.reshape(1,-1).T\n",
        "result_6 =x_test.reshape(1,-1).T\n",
        "result_7 =y_val.reshape(1,-1).T\n",
        "result_8 =y_test.reshape(1,-1).T\n",
        "df_1 = pd.DataFrame(result,columns=['x_train'])\n",
        "df_2=pd.DataFrame(result_2,columns=['y_train'])\n",
        "df_3 = pd.DataFrame(result_3,columns=['x_temporary'])\n",
        "df_4=pd.DataFrame(result_4,columns=['y_temporary'])\n",
        "df_5 = pd.DataFrame(result_5,columns=['x_val'])\n",
        "df_6=pd.DataFrame(result_6,columns=['x_test'])\n",
        "df_7 = pd.DataFrame(result_7,columns=['y_val'])\n",
        "df_8=pd.DataFrame(result_8,columns=['y_test'])\n",
        "dataset=pd.concat([df_1,df_2,df_3,df_4,df_5,df_6,df_7,df_8],axis=1)\n",
        "dataset"
      ],
      "metadata": {
        "colab": {
          "base_uri": "https://localhost:8080/",
          "height": 423
        },
        "id": "3QTR5Z1Om7_U",
        "outputId": "be331fba-ae7c-442c-a01e-20f2d321a9e0"
      },
      "execution_count": 333,
      "outputs": [
        {
          "output_type": "execute_result",
          "data": {
            "text/plain": [
              "          x_train  y_train  x_temporary  y_temporary     x_val  x_test  y_val  \\\n",
              "0        0.062745      5.0          0.0          1.0  0.031373     0.0    4.0   \n",
              "1        0.066667      0.0          0.0          3.0  0.101961     0.0    2.0   \n",
              "2        0.105882      2.0          0.0          9.0  0.074510     0.0    8.0   \n",
              "3        0.039216      8.0          0.0          3.0  0.105882     0.0    6.0   \n",
              "4        0.086275      8.0          0.0          5.0  0.082353     0.0    0.0   \n",
              "...           ...      ...          ...          ...       ...     ...    ...   \n",
              "7152635  0.000000      NaN          NaN          NaN       NaN     NaN    NaN   \n",
              "7152636  0.000000      NaN          NaN          NaN       NaN     NaN    NaN   \n",
              "7152637  0.003922      NaN          NaN          NaN       NaN     NaN    NaN   \n",
              "7152638  0.000000      NaN          NaN          NaN       NaN     NaN    NaN   \n",
              "7152639  0.141176      NaN          NaN          NaN       NaN     NaN    NaN   \n",
              "\n",
              "         y_test  \n",
              "0           1.0  \n",
              "1           9.0  \n",
              "2           9.0  \n",
              "3           2.0  \n",
              "4           0.0  \n",
              "...         ...  \n",
              "7152635     NaN  \n",
              "7152636     NaN  \n",
              "7152637     NaN  \n",
              "7152638     NaN  \n",
              "7152639     NaN  \n",
              "\n",
              "[7152640 rows x 8 columns]"
            ],
            "text/html": [
              "\n",
              "  <div id=\"df-b8f899d0-0e89-4e8f-bb99-e15357c03b58\">\n",
              "    <div class=\"colab-df-container\">\n",
              "      <div>\n",
              "<style scoped>\n",
              "    .dataframe tbody tr th:only-of-type {\n",
              "        vertical-align: middle;\n",
              "    }\n",
              "\n",
              "    .dataframe tbody tr th {\n",
              "        vertical-align: top;\n",
              "    }\n",
              "\n",
              "    .dataframe thead th {\n",
              "        text-align: right;\n",
              "    }\n",
              "</style>\n",
              "<table border=\"1\" class=\"dataframe\">\n",
              "  <thead>\n",
              "    <tr style=\"text-align: right;\">\n",
              "      <th></th>\n",
              "      <th>x_train</th>\n",
              "      <th>y_train</th>\n",
              "      <th>x_temporary</th>\n",
              "      <th>y_temporary</th>\n",
              "      <th>x_val</th>\n",
              "      <th>x_test</th>\n",
              "      <th>y_val</th>\n",
              "      <th>y_test</th>\n",
              "    </tr>\n",
              "  </thead>\n",
              "  <tbody>\n",
              "    <tr>\n",
              "      <th>0</th>\n",
              "      <td>0.062745</td>\n",
              "      <td>5.0</td>\n",
              "      <td>0.0</td>\n",
              "      <td>1.0</td>\n",
              "      <td>0.031373</td>\n",
              "      <td>0.0</td>\n",
              "      <td>4.0</td>\n",
              "      <td>1.0</td>\n",
              "    </tr>\n",
              "    <tr>\n",
              "      <th>1</th>\n",
              "      <td>0.066667</td>\n",
              "      <td>0.0</td>\n",
              "      <td>0.0</td>\n",
              "      <td>3.0</td>\n",
              "      <td>0.101961</td>\n",
              "      <td>0.0</td>\n",
              "      <td>2.0</td>\n",
              "      <td>9.0</td>\n",
              "    </tr>\n",
              "    <tr>\n",
              "      <th>2</th>\n",
              "      <td>0.105882</td>\n",
              "      <td>2.0</td>\n",
              "      <td>0.0</td>\n",
              "      <td>9.0</td>\n",
              "      <td>0.074510</td>\n",
              "      <td>0.0</td>\n",
              "      <td>8.0</td>\n",
              "      <td>9.0</td>\n",
              "    </tr>\n",
              "    <tr>\n",
              "      <th>3</th>\n",
              "      <td>0.039216</td>\n",
              "      <td>8.0</td>\n",
              "      <td>0.0</td>\n",
              "      <td>3.0</td>\n",
              "      <td>0.105882</td>\n",
              "      <td>0.0</td>\n",
              "      <td>6.0</td>\n",
              "      <td>2.0</td>\n",
              "    </tr>\n",
              "    <tr>\n",
              "      <th>4</th>\n",
              "      <td>0.086275</td>\n",
              "      <td>8.0</td>\n",
              "      <td>0.0</td>\n",
              "      <td>5.0</td>\n",
              "      <td>0.082353</td>\n",
              "      <td>0.0</td>\n",
              "      <td>0.0</td>\n",
              "      <td>0.0</td>\n",
              "    </tr>\n",
              "    <tr>\n",
              "      <th>...</th>\n",
              "      <td>...</td>\n",
              "      <td>...</td>\n",
              "      <td>...</td>\n",
              "      <td>...</td>\n",
              "      <td>...</td>\n",
              "      <td>...</td>\n",
              "      <td>...</td>\n",
              "      <td>...</td>\n",
              "    </tr>\n",
              "    <tr>\n",
              "      <th>7152635</th>\n",
              "      <td>0.000000</td>\n",
              "      <td>NaN</td>\n",
              "      <td>NaN</td>\n",
              "      <td>NaN</td>\n",
              "      <td>NaN</td>\n",
              "      <td>NaN</td>\n",
              "      <td>NaN</td>\n",
              "      <td>NaN</td>\n",
              "    </tr>\n",
              "    <tr>\n",
              "      <th>7152636</th>\n",
              "      <td>0.000000</td>\n",
              "      <td>NaN</td>\n",
              "      <td>NaN</td>\n",
              "      <td>NaN</td>\n",
              "      <td>NaN</td>\n",
              "      <td>NaN</td>\n",
              "      <td>NaN</td>\n",
              "      <td>NaN</td>\n",
              "    </tr>\n",
              "    <tr>\n",
              "      <th>7152637</th>\n",
              "      <td>0.003922</td>\n",
              "      <td>NaN</td>\n",
              "      <td>NaN</td>\n",
              "      <td>NaN</td>\n",
              "      <td>NaN</td>\n",
              "      <td>NaN</td>\n",
              "      <td>NaN</td>\n",
              "      <td>NaN</td>\n",
              "    </tr>\n",
              "    <tr>\n",
              "      <th>7152638</th>\n",
              "      <td>0.000000</td>\n",
              "      <td>NaN</td>\n",
              "      <td>NaN</td>\n",
              "      <td>NaN</td>\n",
              "      <td>NaN</td>\n",
              "      <td>NaN</td>\n",
              "      <td>NaN</td>\n",
              "      <td>NaN</td>\n",
              "    </tr>\n",
              "    <tr>\n",
              "      <th>7152639</th>\n",
              "      <td>0.141176</td>\n",
              "      <td>NaN</td>\n",
              "      <td>NaN</td>\n",
              "      <td>NaN</td>\n",
              "      <td>NaN</td>\n",
              "      <td>NaN</td>\n",
              "      <td>NaN</td>\n",
              "      <td>NaN</td>\n",
              "    </tr>\n",
              "  </tbody>\n",
              "</table>\n",
              "<p>7152640 rows × 8 columns</p>\n",
              "</div>\n",
              "      <button class=\"colab-df-convert\" onclick=\"convertToInteractive('df-b8f899d0-0e89-4e8f-bb99-e15357c03b58')\"\n",
              "              title=\"Convert this dataframe to an interactive table.\"\n",
              "              style=\"display:none;\">\n",
              "        \n",
              "  <svg xmlns=\"http://www.w3.org/2000/svg\" height=\"24px\"viewBox=\"0 0 24 24\"\n",
              "       width=\"24px\">\n",
              "    <path d=\"M0 0h24v24H0V0z\" fill=\"none\"/>\n",
              "    <path d=\"M18.56 5.44l.94 2.06.94-2.06 2.06-.94-2.06-.94-.94-2.06-.94 2.06-2.06.94zm-11 1L8.5 8.5l.94-2.06 2.06-.94-2.06-.94L8.5 2.5l-.94 2.06-2.06.94zm10 10l.94 2.06.94-2.06 2.06-.94-2.06-.94-.94-2.06-.94 2.06-2.06.94z\"/><path d=\"M17.41 7.96l-1.37-1.37c-.4-.4-.92-.59-1.43-.59-.52 0-1.04.2-1.43.59L10.3 9.45l-7.72 7.72c-.78.78-.78 2.05 0 2.83L4 21.41c.39.39.9.59 1.41.59.51 0 1.02-.2 1.41-.59l7.78-7.78 2.81-2.81c.8-.78.8-2.07 0-2.86zM5.41 20L4 18.59l7.72-7.72 1.47 1.35L5.41 20z\"/>\n",
              "  </svg>\n",
              "      </button>\n",
              "      \n",
              "  <style>\n",
              "    .colab-df-container {\n",
              "      display:flex;\n",
              "      flex-wrap:wrap;\n",
              "      gap: 12px;\n",
              "    }\n",
              "\n",
              "    .colab-df-convert {\n",
              "      background-color: #E8F0FE;\n",
              "      border: none;\n",
              "      border-radius: 50%;\n",
              "      cursor: pointer;\n",
              "      display: none;\n",
              "      fill: #1967D2;\n",
              "      height: 32px;\n",
              "      padding: 0 0 0 0;\n",
              "      width: 32px;\n",
              "    }\n",
              "\n",
              "    .colab-df-convert:hover {\n",
              "      background-color: #E2EBFA;\n",
              "      box-shadow: 0px 1px 2px rgba(60, 64, 67, 0.3), 0px 1px 3px 1px rgba(60, 64, 67, 0.15);\n",
              "      fill: #174EA6;\n",
              "    }\n",
              "\n",
              "    [theme=dark] .colab-df-convert {\n",
              "      background-color: #3B4455;\n",
              "      fill: #D2E3FC;\n",
              "    }\n",
              "\n",
              "    [theme=dark] .colab-df-convert:hover {\n",
              "      background-color: #434B5C;\n",
              "      box-shadow: 0px 1px 3px 1px rgba(0, 0, 0, 0.15);\n",
              "      filter: drop-shadow(0px 1px 2px rgba(0, 0, 0, 0.3));\n",
              "      fill: #FFFFFF;\n",
              "    }\n",
              "  </style>\n",
              "\n",
              "      <script>\n",
              "        const buttonEl =\n",
              "          document.querySelector('#df-b8f899d0-0e89-4e8f-bb99-e15357c03b58 button.colab-df-convert');\n",
              "        buttonEl.style.display =\n",
              "          google.colab.kernel.accessAllowed ? 'block' : 'none';\n",
              "\n",
              "        async function convertToInteractive(key) {\n",
              "          const element = document.querySelector('#df-b8f899d0-0e89-4e8f-bb99-e15357c03b58');\n",
              "          const dataTable =\n",
              "            await google.colab.kernel.invokeFunction('convertToInteractive',\n",
              "                                                     [key], {});\n",
              "          if (!dataTable) return;\n",
              "\n",
              "          const docLinkHtml = 'Like what you see? Visit the ' +\n",
              "            '<a target=\"_blank\" href=https://colab.research.google.com/notebooks/data_table.ipynb>data table notebook</a>'\n",
              "            + ' to learn more about interactive tables.';\n",
              "          element.innerHTML = '';\n",
              "          dataTable['output_type'] = 'display_data';\n",
              "          await google.colab.output.renderOutput(dataTable, element);\n",
              "          const docLink = document.createElement('div');\n",
              "          docLink.innerHTML = docLinkHtml;\n",
              "          element.appendChild(docLink);\n",
              "        }\n",
              "      </script>\n",
              "    </div>\n",
              "  </div>\n",
              "  "
            ]
          },
          "metadata": {},
          "execution_count": 333
        }
      ]
    },
    {
      "cell_type": "code",
      "execution_count": 334,
      "metadata": {
        "id": "gArcMonCiwMk"
      },
      "outputs": [],
      "source": [
        "#Model Oluşturma\n",
        "import tensorflow as tf\n",
        "model = tf.keras.Sequential()\n",
        "\n",
        "model.add(tf.keras.layers.Conv2D(32,kernel_size=(3,3),strides=(1,1),padding='same',activation='relu',input_shape=(32,32,1)))\n",
        "model.add(tf.keras.layers.MaxPooling2D(2,2))\n",
        "\n",
        "model.add(tf.keras.layers.Conv2D(64,kernel_size=(3,3),strides=(1,1),padding='same',activation='relu'))\n",
        "model.add(tf.keras.layers.MaxPooling2D((2,2)))\n",
        "\n",
        "model.add(tf.keras.layers.Conv2D(64,kernel_size=(3,3),strides=(1,1),padding='same',activation='relu'))\n",
        "model.add(tf.keras.layers.Flatten())\n",
        "\n",
        "model.add(tf.keras.layers.Dense(64,activation='relu'))\n",
        "model.add(tf.keras.layers.Dropout((0.5)))\n",
        "\n",
        "model.add(tf.keras.layers.Dense(64,activation='relu'))\n",
        "model.add(tf.keras.layers.Dropout((0.5)))\n",
        "\n",
        "model.add(tf.keras.layers.Dense(10,activation='softmax'))\n",
        "\n",
        "\n",
        "model.compile(optimizer='adam',loss = tf.keras.losses.SparseCategoricalCrossentropy(from_logits=True),\n",
        "              metrics=['accuracy'])"
      ]
    },
    {
      "cell_type": "code",
      "execution_count": 335,
      "metadata": {
        "id": "d2Tdpq1mkAP-",
        "colab": {
          "base_uri": "https://localhost:8080/"
        },
        "outputId": "85f5fc91-2ef6-426b-9be5-26e740542585"
      },
      "outputs": [
        {
          "output_type": "stream",
          "name": "stdout",
          "text": [
            "Epoch 1/50\n"
          ]
        },
        {
          "output_type": "stream",
          "name": "stderr",
          "text": [
            "/usr/local/lib/python3.7/dist-packages/tensorflow/python/util/dispatch.py:1082: UserWarning: \"`sparse_categorical_crossentropy` received `from_logits=True`, but the `output` argument was produced by a sigmoid or softmax activation and thus does not represent logits. Was this intended?\"\n",
            "  return dispatch_target(*args, **kwargs)\n"
          ]
        },
        {
          "output_type": "stream",
          "name": "stdout",
          "text": [
            "55/55 [==============================] - 1s 11ms/step - loss: 2.1266 - accuracy: 0.2082 - val_loss: 1.8352 - val_accuracy: 0.3345\n",
            "Epoch 2/50\n",
            "55/55 [==============================] - 0s 9ms/step - loss: 1.8305 - accuracy: 0.3104 - val_loss: 1.5518 - val_accuracy: 0.4170\n",
            "Epoch 3/50\n",
            "55/55 [==============================] - 0s 7ms/step - loss: 1.6509 - accuracy: 0.3950 - val_loss: 1.4078 - val_accuracy: 0.5246\n",
            "Epoch 4/50\n",
            "55/55 [==============================] - 0s 7ms/step - loss: 1.5153 - accuracy: 0.4492 - val_loss: 1.2694 - val_accuracy: 0.5727\n",
            "Epoch 5/50\n",
            "55/55 [==============================] - 0s 8ms/step - loss: 1.3992 - accuracy: 0.4965 - val_loss: 1.1795 - val_accuracy: 0.5773\n",
            "Epoch 6/50\n",
            "55/55 [==============================] - 0s 8ms/step - loss: 1.3107 - accuracy: 0.5394 - val_loss: 1.0528 - val_accuracy: 0.6449\n",
            "Epoch 7/50\n",
            "55/55 [==============================] - 0s 7ms/step - loss: 1.2245 - accuracy: 0.5676 - val_loss: 1.0146 - val_accuracy: 0.6770\n",
            "Epoch 8/50\n",
            "55/55 [==============================] - 0s 7ms/step - loss: 1.1361 - accuracy: 0.6073 - val_loss: 0.9570 - val_accuracy: 0.6850\n",
            "Epoch 9/50\n",
            "55/55 [==============================] - 0s 7ms/step - loss: 1.0825 - accuracy: 0.6265 - val_loss: 0.8704 - val_accuracy: 0.7148\n",
            "Epoch 10/50\n",
            "55/55 [==============================] - 0s 8ms/step - loss: 1.0372 - accuracy: 0.6325 - val_loss: 0.8538 - val_accuracy: 0.7194\n",
            "Epoch 11/50\n",
            "55/55 [==============================] - 0s 8ms/step - loss: 0.9886 - accuracy: 0.6567 - val_loss: 0.8165 - val_accuracy: 0.7549\n",
            "Epoch 12/50\n",
            "55/55 [==============================] - 0s 7ms/step - loss: 0.9465 - accuracy: 0.6772 - val_loss: 0.7696 - val_accuracy: 0.7617\n",
            "Epoch 13/50\n",
            "55/55 [==============================] - 0s 7ms/step - loss: 0.9200 - accuracy: 0.6883 - val_loss: 0.7718 - val_accuracy: 0.7514\n",
            "Epoch 14/50\n",
            "55/55 [==============================] - 0s 7ms/step - loss: 0.8724 - accuracy: 0.7028 - val_loss: 0.7117 - val_accuracy: 0.7835\n",
            "Epoch 15/50\n",
            "55/55 [==============================] - 0s 8ms/step - loss: 0.8388 - accuracy: 0.7258 - val_loss: 0.6850 - val_accuracy: 0.7869\n",
            "Epoch 16/50\n",
            "55/55 [==============================] - 0s 8ms/step - loss: 0.7717 - accuracy: 0.7400 - val_loss: 0.6725 - val_accuracy: 0.7984\n",
            "Epoch 17/50\n",
            "55/55 [==============================] - 0s 7ms/step - loss: 0.7462 - accuracy: 0.7518 - val_loss: 0.6315 - val_accuracy: 0.8076\n",
            "Epoch 18/50\n",
            "55/55 [==============================] - 0s 8ms/step - loss: 0.7130 - accuracy: 0.7613 - val_loss: 0.6748 - val_accuracy: 0.7858\n",
            "Epoch 19/50\n",
            "55/55 [==============================] - 0s 7ms/step - loss: 0.6904 - accuracy: 0.7642 - val_loss: 0.7078 - val_accuracy: 0.7847\n",
            "Epoch 20/50\n",
            "55/55 [==============================] - 0s 7ms/step - loss: 0.6957 - accuracy: 0.7694 - val_loss: 0.6254 - val_accuracy: 0.8121\n",
            "Epoch 21/50\n",
            "55/55 [==============================] - 0s 7ms/step - loss: 0.6339 - accuracy: 0.7858 - val_loss: 0.5827 - val_accuracy: 0.8247\n",
            "Epoch 22/50\n",
            "55/55 [==============================] - 0s 7ms/step - loss: 0.6223 - accuracy: 0.7954 - val_loss: 0.5793 - val_accuracy: 0.8190\n",
            "Epoch 23/50\n",
            "55/55 [==============================] - 0s 7ms/step - loss: 0.5946 - accuracy: 0.8020 - val_loss: 0.5614 - val_accuracy: 0.8339\n",
            "Epoch 24/50\n",
            "55/55 [==============================] - 0s 7ms/step - loss: 0.5568 - accuracy: 0.8044 - val_loss: 0.5869 - val_accuracy: 0.8179\n",
            "Epoch 25/50\n",
            "55/55 [==============================] - 0s 7ms/step - loss: 0.5596 - accuracy: 0.8097 - val_loss: 0.5789 - val_accuracy: 0.8293\n",
            "Epoch 26/50\n",
            "55/55 [==============================] - 0s 7ms/step - loss: 0.5410 - accuracy: 0.8180 - val_loss: 0.5829 - val_accuracy: 0.8282\n",
            "Epoch 27/50\n",
            "55/55 [==============================] - 0s 7ms/step - loss: 0.5479 - accuracy: 0.8170 - val_loss: 0.5880 - val_accuracy: 0.8144\n",
            "Epoch 28/50\n",
            "55/55 [==============================] - 0s 8ms/step - loss: 0.5180 - accuracy: 0.8252 - val_loss: 0.5531 - val_accuracy: 0.8385\n",
            "Epoch 29/50\n",
            "55/55 [==============================] - 0s 8ms/step - loss: 0.4665 - accuracy: 0.8392 - val_loss: 0.5528 - val_accuracy: 0.8431\n",
            "Epoch 30/50\n",
            "55/55 [==============================] - 0s 7ms/step - loss: 0.4744 - accuracy: 0.8349 - val_loss: 0.5447 - val_accuracy: 0.8362\n",
            "Epoch 31/50\n",
            "55/55 [==============================] - 0s 8ms/step - loss: 0.4641 - accuracy: 0.8401 - val_loss: 0.5508 - val_accuracy: 0.8396\n",
            "Epoch 32/50\n",
            "55/55 [==============================] - 0s 7ms/step - loss: 0.4227 - accuracy: 0.8528 - val_loss: 0.5686 - val_accuracy: 0.8454\n",
            "Epoch 33/50\n",
            "55/55 [==============================] - 0s 7ms/step - loss: 0.4183 - accuracy: 0.8547 - val_loss: 0.5204 - val_accuracy: 0.8499\n",
            "Epoch 34/50\n",
            "55/55 [==============================] - 0s 7ms/step - loss: 0.4299 - accuracy: 0.8500 - val_loss: 0.6256 - val_accuracy: 0.8431\n",
            "Epoch 35/50\n",
            "55/55 [==============================] - 0s 8ms/step - loss: 0.4137 - accuracy: 0.8616 - val_loss: 0.5720 - val_accuracy: 0.8522\n",
            "Epoch 36/50\n",
            "55/55 [==============================] - 0s 7ms/step - loss: 0.4071 - accuracy: 0.8586 - val_loss: 0.5436 - val_accuracy: 0.8511\n",
            "Epoch 37/50\n",
            "55/55 [==============================] - 0s 7ms/step - loss: 0.3842 - accuracy: 0.8626 - val_loss: 0.5926 - val_accuracy: 0.8591\n",
            "Epoch 38/50\n",
            "55/55 [==============================] - 0s 7ms/step - loss: 0.3646 - accuracy: 0.8657 - val_loss: 0.5963 - val_accuracy: 0.8442\n",
            "Epoch 39/50\n",
            "55/55 [==============================] - 0s 7ms/step - loss: 0.3957 - accuracy: 0.8616 - val_loss: 0.7172 - val_accuracy: 0.8225\n",
            "Epoch 40/50\n",
            "55/55 [==============================] - 0s 7ms/step - loss: 0.3731 - accuracy: 0.8651 - val_loss: 0.5822 - val_accuracy: 0.8511\n",
            "Epoch 41/50\n",
            "55/55 [==============================] - 0s 7ms/step - loss: 0.3499 - accuracy: 0.8743 - val_loss: 0.5666 - val_accuracy: 0.8511\n",
            "Epoch 42/50\n",
            "55/55 [==============================] - 0s 7ms/step - loss: 0.3420 - accuracy: 0.8742 - val_loss: 0.5657 - val_accuracy: 0.8557\n",
            "Epoch 43/50\n",
            "55/55 [==============================] - 0s 8ms/step - loss: 0.3317 - accuracy: 0.8805 - val_loss: 0.5768 - val_accuracy: 0.8603\n",
            "Epoch 44/50\n",
            "55/55 [==============================] - 0s 7ms/step - loss: 0.3348 - accuracy: 0.8800 - val_loss: 0.5634 - val_accuracy: 0.8557\n",
            "Epoch 45/50\n",
            "55/55 [==============================] - 0s 7ms/step - loss: 0.3116 - accuracy: 0.8876 - val_loss: 0.6043 - val_accuracy: 0.8603\n",
            "Epoch 46/50\n",
            "55/55 [==============================] - 0s 7ms/step - loss: 0.3136 - accuracy: 0.8852 - val_loss: 0.6414 - val_accuracy: 0.8396\n",
            "Epoch 47/50\n",
            "55/55 [==============================] - 0s 7ms/step - loss: 0.3307 - accuracy: 0.8816 - val_loss: 0.5956 - val_accuracy: 0.8671\n",
            "Epoch 48/50\n",
            "55/55 [==============================] - 0s 7ms/step - loss: 0.3018 - accuracy: 0.8938 - val_loss: 0.6286 - val_accuracy: 0.8568\n",
            "Epoch 49/50\n",
            "55/55 [==============================] - 0s 7ms/step - loss: 0.3051 - accuracy: 0.8946 - val_loss: 0.6200 - val_accuracy: 0.8614\n",
            "Epoch 50/50\n",
            "55/55 [==============================] - 0s 8ms/step - loss: 0.3008 - accuracy: 0.8875 - val_loss: 0.6307 - val_accuracy: 0.8591\n"
          ]
        }
      ],
      "source": [
        "result = model.fit(x_train,y_train,batch_size=128,epochs=50,validation_data=(x_val,y_val))"
      ]
    },
    {
      "cell_type": "code",
      "execution_count": 336,
      "metadata": {
        "id": "vb99crZl6fCn",
        "colab": {
          "base_uri": "https://localhost:8080/",
          "height": 279
        },
        "outputId": "6b1b194b-4f2e-4880-e2ea-bcd7e7d9bc8c"
      },
      "outputs": [
        {
          "output_type": "display_data",
          "data": {
            "text/plain": [
              "<Figure size 432x288 with 1 Axes>"
            ],
            "image/png": "[encoded data removed]"
          },
          "metadata": {
            "needs_background": "light"
          }
        }
      ],
      "source": [
        "plt.plot(result.history['loss'],label='loss')\n",
        "plt.plot(result.history['val_loss'],label='val_loss')\n",
        "plt.xlabel('Epoch')\n",
        "plt.ylabel('Loss')\n",
        "plt.legend()\n",
        "plt.show()\n",
        "\n"
      ]
    },
    {
      "cell_type": "code",
      "source": [
        "plt.plot(result.history['accuracy'],label='accuracy')\n",
        "plt.plot(result.history['val_accuracy'],label='val_accuracy')\n",
        "plt.xlabel('Epoch')\n",
        "plt.ylabel('Accuracy')\n",
        "plt.legend()\n",
        "plt.show()\n"
      ],
      "metadata": {
        "id": "QuCXEM1XUNKr",
        "colab": {
          "base_uri": "https://localhost:8080/",
          "height": 279
        },
        "outputId": "32d75726-99e8-446e-fa80-6ba3f4b9f00e"
      },
      "execution_count": 337,
      "outputs": [
        {
          "output_type": "display_data",
          "data": {
            "text/plain": [
              "<Figure size 432x288 with 1 Axes>"
            ],
            "image/png": "[encoded data removed]"
          },
          "metadata": {
            "needs_background": "light"
          }
        }
      ]
    },
    {
      "cell_type": "code",
      "source": [
        "prediction_result=model.predict(x_test[789].reshape(-1,32,32))\n",
        "prediction_result"
      ],
      "metadata": {
        "id": "rmd6NPKjUOx0",
        "colab": {
          "base_uri": "https://localhost:8080/"
        },
        "outputId": "b99cbc5c-6677-4381-93c8-985ae92a146f"
      },
      "execution_count": 341,
      "outputs": [
        {
          "output_type": "execute_result",
          "data": {
            "text/plain": [
              "array([[1.92641735e-03, 3.44374770e-04, 3.35009806e-02, 6.85540494e-04,\n",
              "        8.65221155e-05, 8.82730455e-05, 3.86807983e-07, 1.05072795e-05,\n",
              "        6.81291043e-04, 9.62675750e-01]], dtype=float32)"
            ]
          },
          "metadata": {},
          "execution_count": 341
        }
      ]
    },
    {
      "cell_type": "code",
      "source": [
        "predicted_class=prediction_result.argmax()\n",
        "predicted_probability=prediction_result.max()\n",
        "y_test[789]"
      ],
      "metadata": {
        "id": "zt6m2w9-UoXg",
        "colab": {
          "base_uri": "https://localhost:8080/"
        },
        "outputId": "9b030d81-ed9e-40ce-89fb-b145ee443eca"
      },
      "execution_count": 342,
      "outputs": [
        {
          "output_type": "execute_result",
          "data": {
            "text/plain": [
              "9"
            ]
          },
          "metadata": {},
          "execution_count": 342
        }
      ]
    },
    {
      "cell_type": "code",
      "source": [
        "print(f\"This image belongs to class {predicted_class} with {predicted_probability} probability % \")"
      ],
      "metadata": {
        "id": "VpQB-1aDU2DD",
        "colab": {
          "base_uri": "https://localhost:8080/"
        },
        "outputId": "18473b17-91b4-4d17-908c-0ccb77638859"
      },
      "execution_count": 343,
      "outputs": [
        {
          "output_type": "stream",
          "name": "stdout",
          "text": [
            "This image belongs to class 9 with 0.9626757502555847 probability % \n"
          ]
        }
      ]
    },
    {
      "cell_type": "code",
      "source": [],
      "metadata": {
        "id": "msaeEagq88ui"
      },
      "execution_count": 340,
      "outputs": []
    }
  ],
  "metadata": {
    "accelerator": "GPU",
    "colab": {
      "collapsed_sections": [],
      "provenance": [],
      "authorship_tag": "ABX9TyNS3cBMwRK4Nja2YT8ZEgLf",
      "include_colab_link": true
    },
    "kernelspec": {
      "display_name": "Python 3",
      "name": "python3"
    },
    "language_info": {
      "name": "python"
    }
  },
  "nbformat": 4,
  "nbformat_minor": 0
}